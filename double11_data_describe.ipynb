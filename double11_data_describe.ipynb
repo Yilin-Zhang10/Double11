{
 "cells": [
  {
   "cell_type": "markdown",
   "metadata": {},
   "source": [
    "## 双十一价格的统计描述\n",
    "\n",
    "因为我们只根据抓到的所有商品做统计描述，那么由于商品数量的原因，我们选的各类商品很难保持和整个平台的商品种类分布一致，因此考虑结果有一定误差。"
   ]
  },
  {
   "cell_type": "markdown",
   "metadata": {},
   "source": [
    "### 双十一价格描述\n",
    "+ 双十一价格平均下调8%\n",
    "+ 最大折扣为90.5%\n",
    "+ 43.3%的商品价格相对于10号没有变动\n",
    "+ 55.0%的商品价格相对于10号下降\n",
    "+ 1.7%的商品价格相对于10号上涨\n",
    "\n",
    "下面为简单的统计描述："
   ]
  },
  {
   "cell_type": "code",
   "execution_count": 7,
   "metadata": {
    "collapsed": false
   },
   "outputs": [
    {
     "data": {
      "text/plain": [
       "count    41133.000000\n",
       "mean        -0.086311\n",
       "std          0.180490\n",
       "min         -0.905000\n",
       "25%         -0.131034\n",
       "50%         -0.075019\n",
       "75%          0.000000\n",
       "max         12.181818\n",
       "Name: 11-11, dtype: float64"
      ]
     },
     "execution_count": 7,
     "metadata": {},
     "output_type": "execute_result"
    }
   ],
   "source": [
    "price_change['11-11'].describe()"
   ]
  },
  {
   "cell_type": "markdown",
   "metadata": {},
   "source": [
    "### 双十一之后十二号价格变动\n",
    "+ 十二号价格相对于十号价格打折1%，说明十二号仍存在部分商品保持双十一的价格。\n",
    "+ 侧面反映平台活动实际上，降低了活动日前后的价格\n",
    "+ 87.7%的价格在十二号回调至十号的价格\n",
    "+ 9.0%的价格在十二号仍然保持十一号大减价的状态\n",
    "\n",
    "下面为简单的统计描述：\n"
   ]
  },
  {
   "cell_type": "code",
   "execution_count": 6,
   "metadata": {
    "collapsed": false
   },
   "outputs": [
    {
     "data": {
      "text/plain": [
       "count    41133.000000\n",
       "mean        -0.010564\n",
       "std          0.146130\n",
       "min         -0.989000\n",
       "25%          0.000000\n",
       "50%          0.000000\n",
       "75%          0.000000\n",
       "max         12.181818\n",
       "Name: 11-12, dtype: float64"
      ]
     },
     "execution_count": 6,
     "metadata": {},
     "output_type": "execute_result"
    }
   ],
   "source": [
    "price_change['11-12'].describe()"
   ]
  },
  {
   "cell_type": "markdown",
   "metadata": {},
   "source": [
    "### 食品\n",
    "+ 食品在双十一整体折扣幅度为7.4%，比总体的8%略低。\n",
    "+ 双十一最高折扣为88.8%。\n",
    "+ 双十一食品中，50.8%的价格下降，46.5%的价格保持不变。\n",
    "+ 十二号价格变动中，8.4%的商品继续保持双十一打折的状态，87.7%的商品回调至十号的价格。\n",
    "\n",
    "下面为简单的统计描述："
   ]
  },
  {
   "cell_type": "code",
   "execution_count": 18,
   "metadata": {
    "collapsed": false
   },
   "outputs": [
    {
     "data": {
      "text/plain": [
       "count    22467.000000\n",
       "mean        -0.074641\n",
       "std          0.181042\n",
       "min         -0.887500\n",
       "25%         -0.123596\n",
       "50%         -0.010101\n",
       "75%          0.000000\n",
       "max          4.378151\n",
       "Name: 11-11, dtype: float64"
      ]
     },
     "execution_count": 18,
     "metadata": {},
     "output_type": "execute_result"
    }
   ],
   "source": [
    "cate1['11-11'].describe()"
   ]
  },
  {
   "cell_type": "code",
   "execution_count": 19,
   "metadata": {
    "collapsed": false
   },
   "outputs": [
    {
     "data": {
      "text/plain": [
       "count    22467.000000\n",
       "mean        -0.004606\n",
       "std          0.121025\n",
       "min         -0.864583\n",
       "25%          0.000000\n",
       "50%          0.000000\n",
       "75%          0.000000\n",
       "max          3.962406\n",
       "Name: 11-12, dtype: float64"
      ]
     },
     "execution_count": 19,
     "metadata": {},
     "output_type": "execute_result"
    }
   ],
   "source": [
    "cate1['11-12'].describe()"
   ]
  },
  {
   "cell_type": "markdown",
   "metadata": {},
   "source": [
    "### 服装\n",
    "+ 服装在双十一整体折扣幅度为15.8%，基本是总体的8%的两倍，说明双十一打折的的主力商品是服装。\n",
    "+ 双十一最高折扣为82.1%。\n",
    "+ 双十一服装中，90.9%的价格下降，8.9%的价格保持不变。\n",
    "+ 十二号价格变动中，14.1%的商品继续保持双十一打折的状态，83.6%的商品回调至十号的价格。\n",
    "\n",
    "下面为简单的统计描述："
   ]
  },
  {
   "cell_type": "code",
   "execution_count": 20,
   "metadata": {
    "collapsed": false
   },
   "outputs": [
    {
     "data": {
      "text/plain": [
       "count    2169.000000\n",
       "mean       -0.158460\n",
       "std         0.125231\n",
       "min        -0.821429\n",
       "25%        -0.190217\n",
       "50%        -0.126316\n",
       "75%        -0.102041\n",
       "max         1.900000\n",
       "Name: 11-11, dtype: float64"
      ]
     },
     "execution_count": 20,
     "metadata": {},
     "output_type": "execute_result"
    }
   ],
   "source": [
    "cate3['11-11'].describe()"
   ]
  },
  {
   "cell_type": "code",
   "execution_count": 21,
   "metadata": {
    "collapsed": false
   },
   "outputs": [
    {
     "data": {
      "text/plain": [
       "count    2169.000000\n",
       "mean       -0.027125\n",
       "std         0.112610\n",
       "min        -0.793697\n",
       "25%         0.000000\n",
       "50%         0.000000\n",
       "75%         0.000000\n",
       "max         1.000000\n",
       "Name: 11-12, dtype: float64"
      ]
     },
     "execution_count": 21,
     "metadata": {},
     "output_type": "execute_result"
    }
   ],
   "source": [
    "cate3['11-12'].describe()"
   ]
  },
  {
   "cell_type": "markdown",
   "metadata": {},
   "source": [
    "## 医疗\n",
    "+ 医疗在双十一整体折扣幅度为15.7%，基本是总体的8%的两倍，同样为价格大幅度下降的商品，\n",
    "+ 双十一最高折扣为89.0%。\n",
    "+ 双十一医疗中，82.5%的价格下降，17.0%的价格保持不变。\n",
    "+ 十二号价格变动中，12.6%的商品继续保持双十一打折的状态，86.1%的商品回调至十号的价格。\n",
    "\n",
    "下面为简单的统计描述："
   ]
  },
  {
   "cell_type": "code",
   "execution_count": 22,
   "metadata": {
    "collapsed": false
   },
   "outputs": [
    {
     "data": {
      "text/plain": [
       "count    1585.000000\n",
       "mean       -0.157080\n",
       "std         0.138846\n",
       "min        -0.869565\n",
       "25%        -0.213759\n",
       "50%        -0.129167\n",
       "75%        -0.100143\n",
       "max         1.253133\n",
       "Name: 11-11, dtype: float64"
      ]
     },
     "execution_count": 22,
     "metadata": {},
     "output_type": "execute_result"
    }
   ],
   "source": [
    "cate5['11-11'].describe()"
   ]
  },
  {
   "cell_type": "code",
   "execution_count": 23,
   "metadata": {
    "collapsed": false
   },
   "outputs": [
    {
     "data": {
      "text/plain": [
       "count    1585.000000\n",
       "mean       -0.026228\n",
       "std         0.100063\n",
       "min        -0.855072\n",
       "25%         0.000000\n",
       "50%         0.000000\n",
       "75%         0.000000\n",
       "max         0.769231\n",
       "Name: 11-12, dtype: float64"
      ]
     },
     "execution_count": 23,
     "metadata": {},
     "output_type": "execute_result"
    }
   ],
   "source": [
    "cate5['11-12'].describe()"
   ]
  },
  {
   "cell_type": "code",
   "execution_count": 17,
   "metadata": {
    "collapsed": false
   },
   "outputs": [],
   "source": [
    "# -*- coding: utf-8 -*-\n",
    "\"\"\"\n",
    "Created on Thu Dec 08 11:16:16 2016\n",
    "\n",
    "@author: Administrator\n",
    "\"\"\"\n",
    "import pandas as pd\n",
    "import numpy as np\n",
    "\n",
    "# read document as dataframe\n",
    "table = pd.read_csv(r'C:\\Users\\Administrator\\Desktop\\double11\\company')\n",
    "\n",
    "# get cate of all goods\n",
    "quatity_table = table.iloc[:,[2,5]]\n",
    "quatity_table = quatity_table.groupby(['goodsID'], as_index=True).mean()\n",
    "\n",
    "# get the price of all goods\n",
    "price_table = table.iloc[:,[2,6,7]]\n",
    "price10 = price_table[price_table['date']=='2016-11-10']\n",
    "price10 = price10.drop(['date'],1)\n",
    "price10.columns = ['goodsID', '11-10']\n",
    "price10 = price10.groupby(['goodsID'], as_index=True).mean()\n",
    "\n",
    "price11 = price_table[price_table['date']=='2016-11-11']\n",
    "price11 = price11.drop(['date'],1)\n",
    "price11.columns = ['goodsID', '11-11']\n",
    "price11 = price11.groupby(['goodsID'], as_index=True).mean()\n",
    "\n",
    "price12 = price_table[price_table['date']=='2016-11-12']\n",
    "price12 = price12.drop(['date'],1)\n",
    "price12.columns = ['goodsID', '11-12']\n",
    "price12 = price12.groupby(['goodsID'], as_index=True).mean()\n",
    "\n",
    "price_all = pd.concat([quatity_table, price10, price11, price12], axis=1, join='inner')\n",
    "price_all['big'] = price_all['catid'].apply(lambda x: str(x)[0:4])\n",
    "price_all['medium'] = price_all['catid'].apply(lambda x: str(x)[0:6])\n",
    "price_all['small'] = price_all['catid'].apply(lambda x: str(x)[0:8])\n",
    "\n",
    "# get change of price\n",
    "price_change = price_all.copy()\n",
    "price_change['11-11'] = (price_all['11-11']-price_all['11-10'])/price_all['11-10']\n",
    "price_change['11-12'] = (price_all['11-12']-price_all['11-10'])/price_all['11-10']\n",
    "\n",
    "# describe cate3\n",
    "cate3 = price_change[price_change['big']=='1103']\n",
    "\n",
    "# describe cate1\n",
    "cate1 = price_change[price_change['big']=='1101']\n",
    "\n",
    "# describe cate5\n",
    "cate5 = price_change[price_change['big']=='1105']"
   ]
  },
  {
   "cell_type": "code",
   "execution_count": null,
   "metadata": {
    "collapsed": true
   },
   "outputs": [],
   "source": []
  }
 ],
 "metadata": {
  "kernelspec": {
   "display_name": "Python [conda root]",
   "language": "python",
   "name": "conda-root-py"
  },
  "language_info": {
   "codemirror_mode": {
    "name": "ipython",
    "version": 2
   },
   "file_extension": ".py",
   "mimetype": "text/x-python",
   "name": "python",
   "nbconvert_exporter": "python",
   "pygments_lexer": "ipython2",
   "version": "2.7.12"
  }
 },
 "nbformat": 4,
 "nbformat_minor": 1
}
